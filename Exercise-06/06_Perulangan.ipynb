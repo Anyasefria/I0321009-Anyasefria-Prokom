{
 "cells": [
  {
   "cell_type": "markdown",
   "metadata": {},
   "source": [
    "***\n",
    "<h1 align=\"center\">Exercise 06</h1>\n",
    " \n",
    "***\n",
    "## While Loop\n",
    "## Exercise 6.1\n",
    "isilah bagian rumpang berikut. xx diganti tanggal lahir dan yy diganti menjadi bulan lahir. tandanya menyesuaikan yang lebih besar."
   ]
  },
  {
   "cell_type": "code",
   "execution_count": 1,
   "metadata": {},
   "outputs": [
    {
     "name": "stdout",
     "output_type": "stream",
     "text": [
      "Be Grateful\n",
      "Be Grateful\n",
      "Be Grateful\n",
      "Be Grateful\n",
      "Be Grateful\n",
      "Be Grateful\n",
      "Be Grateful\n",
      "Be Grateful\n",
      "Be Grateful\n",
      "Be Grateful\n"
     ]
    }
   ],
   "source": [
    "#menentukan banyak pengulangan\n",
    "n = 18\n",
    "\n",
    "#melakukan pengulangan\n",
    "i = 9\n",
    "\n",
    "while i <= n :\n",
    "    print (\"Be Grateful\")\n",
    "    #diisi motto kalian\n",
    "    i = i + 1 # sesuaikan dengan atas agar fungsi perulangan dapat berhenti\n"
   ]
  },
  {
   "cell_type": "markdown",
   "metadata": {},
   "source": [
    "## Exercise 6.2\n",
    "\n",
    "Buatlah code seperti yang dicontohkan pada modul agar user dapat menginputkan sendiri jumlah n yang diinginkan"
   ]
  },
  {
   "cell_type": "code",
   "execution_count": 3,
   "metadata": {},
   "outputs": [
    {
     "name": "stdout",
     "output_type": "stream",
     "text": [
      "9\n",
      "10\n",
      "11\n",
      "12\n",
      "13\n",
      "14\n",
      "15\n",
      "16\n",
      "17\n",
      "18\n",
      "19\n",
      "20\n"
     ]
    }
   ],
   "source": [
    "#Kerjakan disini\n",
    "n = int(input(\"input nilai n: \"))\n",
    "i = 9\n",
    "while i <= n :\n",
    "    print (i)\n",
    "    i = i + 1"
   ]
  },
  {
   "cell_type": "markdown",
   "metadata": {},
   "source": [
    "## Excercise 6.3\n",
    "\n",
    "isilah xx, yy, dan tanda rumpang seperti pada exercise 6.1\n"
   ]
  },
  {
   "cell_type": "code",
   "execution_count": 6,
   "metadata": {},
   "outputs": [
    {
     "name": "stdout",
     "output_type": "stream",
     "text": [
      "Baris ke-9 : The Sound of Music\n",
      "Baris ke-10 : The Sound of Music\n",
      "Baris ke-11 : The Sound of Music\n",
      "Baris ke-12 : The Sound of Music\n",
      "Baris ke-13 : The Sound of Music\n",
      "Baris ke-14 : The Sound of Music\n",
      "Baris ke-15 : The Sound of Music\n",
      "Baris ke-16 : The Sound of Music\n",
      "Baris ke-17 : The Sound of Music\n",
      "Baris ke-18 : The Sound of Music\n"
     ]
    }
   ],
   "source": [
    "#melakukan pengulangan\n",
    "i = 9\n",
    "\n",
    "while i <= 18 :\n",
    "    print (\"Baris ke-%d : The Sound of Music\"%i)\n",
    "    #isi titik-titik dengan judul film favorit kalian\n",
    "    i = i + 1 "
   ]
  },
  {
   "cell_type": "markdown",
   "metadata": {},
   "source": [
    "## FOR LOOP\n",
    "\n",
    "## Exercise 6.4\n",
    "\n",
    "munculkan 3 dari 7 elemen yang berada di dalam list1 dan list2\n"
   ]
  },
  {
   "cell_type": "code",
   "execution_count": 7,
   "metadata": {},
   "outputs": [
    {
     "name": "stdout",
     "output_type": "stream",
     "text": [
      "1 nasi goreng Solo\n",
      "2 roti bakar Jogja\n",
      "3 shawarma Bandung\n"
     ]
    }
   ],
   "source": [
    "list1 = ['nasi goreng', 'roti bakar', 'shawarma', 'kwetiau', 'bakmi rebus', 'yoghurt', 'masakan ibu'] #masukkan 7 list makanan favorit kalian\n",
    "list2 = ['Solo', 'Jogja', 'Bandung', 'Jakarta', 'Gianyar', 'Badung', 'Depansar'] #masukkan 7 list kota favorit kalian\n",
    "\n",
    "for i in range(0,3) :\n",
    "    print(i+1, list1[i] , list2[i])"
   ]
  },
  {
   "cell_type": "markdown",
   "metadata": {},
   "source": [
    "## Perulangan Bersarang\n",
    "\n",
    "## Exercise 6.5"
   ]
  },
  {
   "cell_type": "code",
   "execution_count": 11,
   "metadata": {},
   "outputs": [
    {
     "name": "stdout",
     "output_type": "stream",
     "text": [
      "81 \n",
      "90 100 \n",
      "99 110 121 \n",
      "108 120 132 144 \n",
      "117 130 143 156 169 \n",
      "126 140 154 168 182 196 \n",
      "135 150 165 180 195 210 225 \n",
      "144 160 176 192 208 224 240 256 \n",
      "153 170 187 204 221 238 255 272 289 \n",
      "162 180 198 216 234 252 270 288 306 324 \n"
     ]
    }
   ],
   "source": [
    "i = 9\n",
    "while i <= 18:\n",
    "    j = 9\n",
    "    while j<=i:\n",
    "        print(\"%d \" % (i*j), end = '')\n",
    "        j = j + 1\n",
    "    print()\n",
    "    i+=1"
   ]
  },
  {
   "cell_type": "markdown",
   "metadata": {},
   "source": [
    "## Pernyataan Loncat\n",
    "\n",
    "## Exercise 6.\n",
    "\n",
    "Buatlah fungsi berikut agar muncul angka hingga berhenti sesuai dengan nilai qq\n",
    "qq = angka favorit kalian\n",
    "pp>qq"
   ]
  },
  {
   "cell_type": "code",
   "execution_count": 12,
   "metadata": {},
   "outputs": [
    {
     "name": "stdout",
     "output_type": "stream",
     "text": [
      "0123456789"
     ]
    }
   ],
   "source": [
    "for i in range(18):\n",
    "    print(i,end='')\n",
    "    if i == 9:\n",
    "        break"
   ]
  },
  {
   "cell_type": "markdown",
   "metadata": {},
   "source": [
    "***\n",
    "<h1 align=\"center\">WELL DONE</h1>\n",
    " \n",
    "***"
   ]
  }
 ],
 "metadata": {
  "interpreter": {
   "hash": "cd08f94adcf3cbae37fe85286256f4c2a10455ca9094fd053e9f3d3f09647223"
  },
  "kernelspec": {
   "display_name": "Python 3.9.7 64-bit",
   "language": "python",
   "name": "python3"
  },
  "language_info": {
   "codemirror_mode": {
    "name": "ipython",
    "version": 3
   },
   "file_extension": ".py",
   "mimetype": "text/x-python",
   "name": "python",
   "nbconvert_exporter": "python",
   "pygments_lexer": "ipython3",
   "version": "3.9.12"
  },
  "orig_nbformat": 4
 },
 "nbformat": 4,
 "nbformat_minor": 2
}
